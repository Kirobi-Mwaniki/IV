import matplotlib.pyplot as plt
import pandas as pd

data = pd.read_csv('https://raw.githubusercontent.com/ChrisWalshaw/DataViz/master/DataNorth/001142828/DailyCustomers.csv', index_col=0)
data.index = pd.to_datetime(data.index)
print(data.head())

selected = ['QSN', 'SGA', 'SMM', 'RAH' ]
data = data[selected]

data = data.loc[pd.to_datetime('2019-01-01'): pd.to_datetime('2019-01-07')]
print(data.head())

data.sum().plot.bar()
plt.show()

data = data.transpose()
print(data)

ax = data.sum().plot.bar()
plt.gcf().autofmt_xdate()
plt.show()
